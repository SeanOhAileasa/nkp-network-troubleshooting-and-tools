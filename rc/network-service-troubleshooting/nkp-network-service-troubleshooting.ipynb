{
 "cells": [
  {
   "cell_type": "markdown",
   "id": "616b0550",
   "metadata": {},
   "source": [
    "***\n",
    "< [Home](https://github.com/SeanOhAileasa) | [README](https://github.com/SeanOhAileasa/nkp-network-troubleshooting-and-tools/blob/main/README.md) >\n",
    "\n",
    "## CompTIA Network+ - Course Material 2022\n",
    "### Topic: ``Network Service Troubleshooting``\n",
    "***"
   ]
  },
  {
   "cell_type": "markdown",
   "id": "b82b07fb",
   "metadata": {},
   "source": [
    "Course material for the ``CompTIA Network+`` module of the ``ICT Associate Apprenticeship (Cybersecurity)`` programme."
   ]
  },
  {
   "cell_type": "markdown",
   "id": "e7228f57",
   "metadata": {},
   "source": [
    "<a id=\"top\"></a>\n",
    "***\n",
    "## Table of Contents\n",
    "***"
   ]
  },
  {
   "cell_type": "markdown",
   "id": "aedf6e82",
   "metadata": {},
   "source": [
    "### [Network Service Troubleshooting](#networkServiceTroubleshooting)"
   ]
  },
  {
   "cell_type": "markdown",
   "id": "ad849f60",
   "metadata": {},
   "source": [
    "<hr width=50%;>"
   ]
  },
  {
   "cell_type": "markdown",
   "id": "04e5e4dc",
   "metadata": {},
   "source": [
    "< [Table of Contents](#top) | [References](#references) >\n",
    "<a id=\"networkServiceTroubleshooting\"></a>\n",
    "***\n",
    "### Network Service Troubleshooting\n",
    "***"
   ]
  },
  {
   "cell_type": "markdown",
   "id": "4c40d0d3",
   "metadata": {},
   "source": [
    "< [Table of Contents](#top) | [References](#references) >\n",
    "<a id=\"___\"></a>\n",
    "***\n",
    "###### Names Not Resolving\n",
    "***"
   ]
  },
  {
   "cell_type": "markdown",
   "id": "a56203da",
   "metadata": {},
   "source": [
    "If your domain name services aren’t working, then you’re going to have a difficult time resolving an IP address from a fully-qualified domain name. "
   ]
  },
  {
   "cell_type": "markdown",
   "id": "08738e34",
   "metadata": {},
   "source": [
    "Web browsing and other applications aren’t going to work, and it will seem as if the entire internet is down."
   ]
  },
  {
   "cell_type": "markdown",
   "id": "927e3c65",
   "metadata": {},
   "source": [
    "May want to try pinging IP addresses instead of a fully-qualified domain name to see if you’re at least able to have connectivity to the network and if you are able to ping these other devices by IP address, then you don’t have a network connectivity issue."
   ]
  },
  {
   "cell_type": "markdown",
   "id": "e35549bc",
   "metadata": {},
   "source": [
    "But of course, our applications commonly use fully-qualified domain names instead of IP addresses. "
   ]
  },
  {
   "cell_type": "markdown",
   "id": "ba86b588",
   "metadata": {},
   "source": [
    "So if you’re not able to make that resolution, your applications are not going to be able to function. "
   ]
  },
  {
   "cell_type": "markdown",
   "id": "9036ce60",
   "metadata": {},
   "source": [
    "< [Table of Contents](#top) | [References](#references) >\n",
    "<a id=\"___\"></a>\n",
    "***\n",
    "###### Names Not Resolving - Troubleshooting DNS Issues\n",
    "***"
   ]
  },
  {
   "cell_type": "markdown",
   "id": "f2f5852d",
   "metadata": {},
   "source": [
    "The first thing you may want to check is the IP address of your local device. "
   ]
  },
  {
   "cell_type": "markdown",
   "id": "238db37b",
   "metadata": {},
   "source": [
    "If you’re able to ping a device that’s on another subnet, then you know you have the correct IP address, subnet mask, and default gateway. "
   ]
  },
  {
   "cell_type": "markdown",
   "id": "0d1df723",
   "metadata": {},
   "source": [
    "But you may want to check the IP configuration for your DNS servers - make sure that IP addresses are listed under your DNS server configuration and make sure they are the right IP addresses for your DNS servers."
   ]
  },
  {
   "cell_type": "markdown",
   "id": "2fb768ef",
   "metadata": {},
   "source": [
    "You can then open a command prompt and use ``nslookup`` or ``dig`` to perform queries against that DNS server. "
   ]
  },
  {
   "cell_type": "markdown",
   "id": "801aac2c",
   "metadata": {},
   "source": [
    "You want to see if you’re able to receive responses from the services that you would like to access and if those DNS servers are not responding, you may want to try a different DNS server. "
   ]
  },
  {
   "cell_type": "markdown",
   "id": "7e362bd7",
   "metadata": {},
   "source": [
    "Google’s DNS servers are ``8.8.8.8`` and ``8.8.4.4`` or you may want to try the servers at Quad9, which are ``9.9.9.9``."
   ]
  },
  {
   "cell_type": "markdown",
   "id": "2cb06706",
   "metadata": {},
   "source": [
    "< [Table of Contents](#top) | [References](#references) >\n",
    "<a id=\"___\"></a>\n",
    "***\n",
    "###### IP Configuration Issues\n",
    "***"
   ]
  },
  {
   "cell_type": "markdown",
   "id": "94356fcc",
   "metadata": {},
   "source": [
    "If the IP configuration on your device is not correct, you may see a number of different symptoms occur:"
   ]
  },
  {
   "cell_type": "markdown",
   "id": "e88fd298",
   "metadata": {},
   "source": [
    "- can communicate to local IP addresses, but you’re not able to communicate to IP addresses on a different subnet "
   ]
  },
  {
   "cell_type": "markdown",
   "id": "71e33e93",
   "metadata": {},
   "source": [
    "- may find that there’s no IP communication at all, and you can’t communicate to devices on your local subnet or a remote subnet "
   ]
  },
  {
   "cell_type": "markdown",
   "id": "3d0bde4f",
   "metadata": {},
   "source": [
    "- may find that some IP addresses on your local subnet are accessible, but others are not accessible from your machine"
   ]
  },
  {
   "cell_type": "markdown",
   "id": "6163deed",
   "metadata": {},
   "source": [
    "< [Table of Contents](#top) | [References](#references) >\n",
    "<a id=\"___\"></a>\n",
    "***\n",
    "###### IP Configuration Issues - Troubleshooting IP Configurations\n",
    "***"
   ]
  },
  {
   "cell_type": "markdown",
   "id": "7aeb4eaf",
   "metadata": {},
   "source": [
    "The first thing you want to do is check your documentation and make sure that you have the correct IP address for your subnet. "
   ]
  },
  {
   "cell_type": "markdown",
   "id": "a31d93e4",
   "metadata": {},
   "source": [
    "Will want to check your computer’s IP address, subnet mask, and default gateway and you want to make sure that matches what you show in your documentation. "
   ]
  },
  {
   "cell_type": "markdown",
   "id": "23072218",
   "metadata": {},
   "source": [
    "If you think your switch is configured with the wrong VLAN information and you’re on the wrong IP subnet - should be able to capture packets and at least see some information appear from your local subnet - that might give you some clues as to which subnet you’re connected to. "
   ]
  },
  {
   "cell_type": "markdown",
   "id": "36e9d946",
   "metadata": {},
   "source": [
    "If you’re not on your network or you don’t have access to the documentation, you may want to look at other devices around you that seem to be working - can look at their IP address, subnet mask, and default gateway, and see if that matches the subnet for your device."
   ]
  },
  {
   "cell_type": "markdown",
   "id": "14f6503d",
   "metadata": {},
   "source": [
    "The problem may be associated with something else in your infrastructure - so you might want to perform some ``ping`` and ``traceroute``, and see just how far you’re able to get outside of your local subnet."
   ]
  },
  {
   "cell_type": "markdown",
   "id": "04b9cd6b",
   "metadata": {},
   "source": [
    "< [Table of Contents](#top) | [References](#references) >\n",
    "<a id=\"___\"></a>\n",
    "***\n",
    "###### Duplicate IP Addresses\n",
    "***"
   ]
  },
  {
   "cell_type": "markdown",
   "id": "93a0831e",
   "metadata": {},
   "source": [
    "Some network administrators prefer to manually configure the IP addresses on all of their devices. "
   ]
  },
  {
   "cell_type": "markdown",
   "id": "8d3e898a",
   "metadata": {},
   "source": [
    "They don’t have a DHCP server, so they have to be very careful that they’re not duplicating any IP addresses between devices."
   ]
  },
  {
   "cell_type": "markdown",
   "id": "241c745c",
   "metadata": {},
   "source": [
    "But of course, DHCP doesn’t guarantee that you’re not going to have duplicate IP addresses - may find a combination of static IP addresses and an overlap with the DHCP pools, or you may have multiple DHCP servers, and you’ve accidentally configured duplicate IP addresses on both of those servers, or someone may turn on their own DHCP server without your knowledge, and now a rogue DHCP server is handing out IP addresses."
   ]
  },
  {
   "cell_type": "markdown",
   "id": "207f6ace",
   "metadata": {},
   "source": [
    "If two devices manage to connect to your network with the same IP address, you’ll find that they’ll fight with each other - one device will have connectivity and then the other device has connectivity, and it’ll switch back and forth between the two devices. "
   ]
  },
  {
   "cell_type": "markdown",
   "id": "a08af0b2",
   "metadata": {},
   "source": [
    "However, on most modern operating systems, the OS performs a check of that IP address before it connects to the network and if it finds that IP address is already in use, it blocks your system from creating a duplicate."
   ]
  },
  {
   "cell_type": "markdown",
   "id": "9a00d179",
   "metadata": {},
   "source": [
    "< [Table of Contents](#top) | [References](#references) >\n",
    "<a id=\"___\"></a>\n",
    "***\n",
    "###### Duplicate IP Addresses - Troubleshooting Duplicate IP Addresses\n",
    "***"
   ]
  },
  {
   "cell_type": "markdown",
   "id": "06aa16bb",
   "metadata": {},
   "source": [
    "To troubleshoot these duplicate IP addresses, you can start with the devices that are being manually configured. "
   ]
  },
  {
   "cell_type": "markdown",
   "id": "bdc1a0d9",
   "metadata": {},
   "source": [
    "Check the IP address, subnet mask, and default gateway for your specific workstation, and make sure it matches your documentation. "
   ]
  },
  {
   "cell_type": "markdown",
   "id": "9cf280c3",
   "metadata": {},
   "source": [
    "Another thing you can do is before bringing that station online, use a third station to be able to ``ping`` that IP address and see if another device responds. "
   ]
  },
  {
   "cell_type": "markdown",
   "id": "685287f8",
   "metadata": {},
   "source": [
    "If another device does respond, you know that IP address should not be manually configured on another device."
   ]
  },
  {
   "cell_type": "markdown",
   "id": "efa25cb2",
   "metadata": {},
   "source": [
    "If you are manually configuring the IP address and you know it’s the right address, but some other device is already using it, you can use that third party device to ``ping`` that IP address, find the MAC address of that device, and then locate that MAC address in your switch - that should tell you what interface that device is connected to."
   ]
  },
  {
   "cell_type": "markdown",
   "id": "2ecca563",
   "metadata": {},
   "source": [
    "If you think you’re getting this duplicate IP address from a DHCP server, you may want to capture the packets associated with the DHCP process, and you’ll be able to tell exactly which DHCP the server is providing you that duplicate IP address. "
   ]
  },
  {
   "cell_type": "markdown",
   "id": "d396d7a6",
   "metadata": {},
   "source": [
    "< [Table of Contents](#top) | [References](#references) >\n",
    "<a id=\"___\"></a>\n",
    "***\n",
    "###### Duplicate MAC Addresses\n",
    "***"
   ]
  },
  {
   "cell_type": "markdown",
   "id": "dad3df9f",
   "metadata": {},
   "source": [
    "One type of duplicate address you don’t see very often is a duplicate MAC address. "
   ]
  },
  {
   "cell_type": "markdown",
   "id": "e8495d0d",
   "metadata": {},
   "source": [
    "MAC addresses are burned into the Network Interface Card - it’s very unusual to see two interface cards with exactly the same MAC address."
   ]
  },
  {
   "cell_type": "markdown",
   "id": "35e82e24",
   "metadata": {},
   "source": [
    "If you do see a duplication of MAC addresses, it could be something innocuous, like someone had misconfigured a manual MAC address configuration. "
   ]
  },
  {
   "cell_type": "markdown",
   "id": "a4122604",
   "metadata": {},
   "source": [
    "Man-in-the-middle attacks can sometimes spoof existing MAC addresses, so you may want to check and make sure there are no security concerns on your network. "
   ]
  },
  {
   "cell_type": "markdown",
   "id": "e55bb3b0",
   "metadata": {},
   "source": [
    "Usually though, the problem is more benign - the issue may be related to a locally-administered MAC address that has been misconfigured in a system, or sometimes you will run into a manufacturing error where two different interface cards have the same burned-in address."
   ]
  },
  {
   "cell_type": "markdown",
   "id": "bfbe8900",
   "metadata": {},
   "source": [
    "If you do see multiple MAC addresses on your network, you may find that those devices have intermittent connectivity - the switch is going to be confused about exactly where that MAC address happens to be on the network. "
   ]
  },
  {
   "cell_type": "markdown",
   "id": "6c590501",
   "metadata": {},
   "source": [
    "If you’re trying to confirm the MAC address of a device, you may want to ``ping`` the IP address of that device and then look at your ``ARP cache`` to see exactly what MAC address is associated with that IP."
   ]
  },
  {
   "cell_type": "markdown",
   "id": "de3c64ce",
   "metadata": {},
   "source": [
    "< [Table of Contents](#top) | [References](#references) >\n",
    "<a id=\"___\"></a>\n",
    "***\n",
    "###### Expired IP Addresses\n",
    "***"
   ]
  },
  {
   "cell_type": "markdown",
   "id": "784b4e4c",
   "metadata": {},
   "source": [
    "If you’re using DHCP on your network, you know that most devices will be able to renew their IP address halfway through the lease time. "
   ]
  },
  {
   "cell_type": "markdown",
   "id": "496eebcc",
   "metadata": {},
   "source": [
    "If you find that the DHCP assigned IP address of a device is expiring, this may indicate a problem with the DHCP server. "
   ]
  },
  {
   "cell_type": "markdown",
   "id": "94171809",
   "metadata": {},
   "source": [
    "If a DHCP server is not available to renew that IP address, then the client will release that IP address at the end of the DHCP lease."
   ]
  },
  {
   "cell_type": "markdown",
   "id": "ee0499d1",
   "metadata": {},
   "source": [
    "We know that if an IP address then is starting with ``169.254``, then they have an Automatic Private IP Address ``APIPA`` assignment and they were not able to retrieve a DHCP assigned address. "
   ]
  },
  {
   "cell_type": "markdown",
   "id": "d47f62b5",
   "metadata": {},
   "source": [
    "Your first place to go then would be your DHCP server - make sure that you have addresses available in the pool and that the DHCP server is working normally."
   ]
  },
  {
   "cell_type": "markdown",
   "id": "84a0cb34",
   "metadata": {},
   "source": [
    "< [Table of Contents](#top) | [References](#references) >\n",
    "<a id=\"___\"></a>\n",
    "***\n",
    "###### Rogue DHCP Server\n",
    "***"
   ]
  },
  {
   "cell_type": "markdown",
   "id": "3df8a069",
   "metadata": {},
   "source": [
    "What if someone happens to install a DHCP server on your network and starts handing out IP addresses to anyone who might need them? "
   ]
  },
  {
   "cell_type": "markdown",
   "id": "f08e5e1c",
   "metadata": {},
   "source": [
    "This would be a rogue DHCP server and because there’s no security inherent to DHCP, this might be something very easy for someone to configure and put on your network. "
   ]
  },
  {
   "cell_type": "markdown",
   "id": "f3ddb9ec",
   "metadata": {},
   "source": [
    "This could mean that someone might be assigned an invalid or duplicate IP address and that, of course, would affect many devices on the network and would probably prevent many clients from being able to communicate to other devices."
   ]
  },
  {
   "cell_type": "markdown",
   "id": "cb20e9a6",
   "metadata": {},
   "source": [
    "One way to disable this rogue DHCP server is to enable security on your switch - there’s a function called ``DHCP Snooping`` that may be able to identify rogue DHCP devices, and you may be able to authorize DHCP devices in Microsoft’s Active Directory and only those devices would be allowed to hand out DHCP addresses."
   ]
  },
  {
   "cell_type": "markdown",
   "id": "05559921",
   "metadata": {},
   "source": [
    "To resolve this problem, you would first have to identify the rogue DHCP server and disable it. "
   ]
  },
  {
   "cell_type": "markdown",
   "id": "bddade1e",
   "metadata": {},
   "source": [
    "You would then need to find all of the devices that received an IP address from that server, have them release that IP address, and then renew with the normal DHCP servers. "
   ]
  },
  {
   "cell_type": "markdown",
   "id": "bbb8613d",
   "metadata": {},
   "source": [
    "< [Table of Contents](#top) | [References](#references) >\n",
    "<a id=\"___\"></a>\n",
    "***\n",
    "###### Untrusted SSL Certificates\n",
    "***"
   ]
  },
  {
   "cell_type": "markdown",
   "id": "b8747748",
   "metadata": {},
   "source": [
    "If you’re communicating to a web server over an encrypted channel, and you receive a pop-up message in your browser, and this error says that the certificate is not trusted by your computer’s operating system, then you may have a problem communicating securely to that web server."
   ]
  },
  {
   "attachments": {
    "image.png": {
     "image/png": "[encoded data removed]"
    }
   },
   "cell_type": "markdown",
   "id": "3970ff39",
   "metadata": {},
   "source": [
    "![image.png](attachment:image.png)"
   ]
  },
  {
   "cell_type": "markdown",
   "id": "fad0ebd5",
   "metadata": {},
   "source": [
    "This means that your browser received the certificate from the web server, but the certificate authority that signed that certificate is not in the browser’s configuration, so the browser doesn’t trust that certificate. "
   ]
  },
  {
   "cell_type": "markdown",
   "id": "d7d7fa32",
   "metadata": {},
   "source": [
    "This could be that the certificate itself has not been signed by a certificate authority or the certificate authority that has signed the certificate is not part of the trusted certificate authorities that are listed in your browser - need to look at the certificate details itself."
   ]
  },
  {
   "cell_type": "markdown",
   "id": "2f98c891",
   "metadata": {},
   "source": [
    "It will tell you what the issuing CA happens to be - on this particular certificate, you can see there is a issuer that is ``CAcert.inc`` and that CAcert certificate does not exist inside my browser, so my browser is not going to trust that web server. "
   ]
  },
  {
   "cell_type": "markdown",
   "id": "4f3a3489",
   "metadata": {},
   "source": [
    "If you’re communicating to an internal web server on your company’s network, then you may need to add your company’s certificate authority to your browser - normally this internal certificate is added by your workstation administration team, but you could manually add that certificate as well."
   ]
  },
  {
   "cell_type": "markdown",
   "id": "f7065644",
   "metadata": {},
   "source": [
    "< [Table of Contents](#top) | [References](#references) >\n",
    "<a id=\"___\"></a>\n",
    "***\n",
    "###### Incorrect Time - ``NTP``\n",
    "***"
   ]
  },
  {
   "cell_type": "markdown",
   "id": "ca2d313c",
   "metadata": {},
   "source": [
    "Configuring the date and time on all of the devices on your network become very important when you’re trying to implement security, for example, the default tolerance for ``Kerberos`` is a five-minute window."
   ]
  },
  {
   "cell_type": "markdown",
   "id": "8a84a30a",
   "metadata": {},
   "source": [
    "So you have to have very tight tolerances on the time and date on all of your devices - this is because Kerberos is assigning you a ticket, and that ticket has a time stamp associated with it - if that time stamp is too old, Kerberos considers that ticket to be invalid and then your client is not able to log in."
   ]
  },
  {
   "cell_type": "markdown",
   "id": "5bc56249",
   "metadata": {},
   "source": [
    "That’s why one of the first things we do when there’s a problem with ``Kerberos`` or being able to log in is to check the time stamp on the device that’s trying to gain access to the network. "
   ]
  },
  {
   "cell_type": "markdown",
   "id": "17f4f756",
   "metadata": {},
   "source": [
    "The easiest thing to do, of course, is to configure all of your devices with the Network Time Protocol, or ``NTP`` - this makes it so that every device can automatically update its clock and stay in sync with one another."
   ]
  },
  {
   "cell_type": "markdown",
   "id": "868f446b",
   "metadata": {},
   "source": [
    "< [Table of Contents](#top) | [References](#references) >\n",
    "<a id=\"___\"></a>\n",
    "***\n",
    "###### Exhausted DHCP Scope\n",
    "***"
   ]
  },
  {
   "cell_type": "markdown",
   "id": "ff4d0b1c",
   "metadata": {},
   "source": [
    "If you’ve ever managed a DHCP server, you know that you create a pool that has a certain number of available IP addresses in the pool. "
   ]
  },
  {
   "cell_type": "markdown",
   "id": "1bccbd7c",
   "metadata": {},
   "source": [
    "But what if you run out of addresses? "
   ]
  },
  {
   "cell_type": "markdown",
   "id": "a38f7e0b",
   "metadata": {},
   "source": [
    "In those particular situations, you’ll find the devices are not able to get an IP address from the DHCP server, and they’ll assign themselves an ``APIPA`` address. "
   ]
  },
  {
   "cell_type": "markdown",
   "id": "164422fa",
   "metadata": {},
   "source": [
    "If you find that devices are assigning themselves an ``APIPA`` address instead of assigning a DHCP address, you may want to check your DHCP server and that you have enough IP addresses available and if possible, you may want to add additional IP addresses to the pool."
   ]
  },
  {
   "cell_type": "markdown",
   "id": "74c04f78",
   "metadata": {},
   "source": [
    "Exhausting a DHCP scope can sneak up on you, so you may want to implement some IP address management, or ``IPAM`` - this would allow you to monitor and get notification if your DHCP pool gets low."
   ]
  },
  {
   "cell_type": "markdown",
   "id": "39bfe9c2",
   "metadata": {},
   "source": [
    "If you have a lot of transient users that move in and out of the network every day, you might want to lower your lease time - this would allow more IP addresses to be released faster, and would provide a larger pool for other users that might need them."
   ]
  },
  {
   "cell_type": "markdown",
   "id": "83747ecf",
   "metadata": {},
   "source": [
    "< [Table of Contents](#top) | [References](#references) >\n",
    "<a id=\"___\"></a>\n",
    "***\n",
    "###### Blocked ``TCP``/``UDP`` Ports\n",
    "***"
   ]
  },
  {
   "cell_type": "markdown",
   "id": "7e121095",
   "metadata": {},
   "source": [
    "On today’s networks, we’re adding many different security devices and we may find that certain application flows may be blocked due to filters installed on a firewall."
   ]
  },
  {
   "cell_type": "markdown",
   "id": "4094d81b",
   "metadata": {},
   "source": [
    "This could also be configured as an ``ACL`` on a router, and it would be restricting the access for an application to travel through that network device. "
   ]
  },
  {
   "cell_type": "markdown",
   "id": "5064050c",
   "metadata": {},
   "source": [
    "These security checkpoints are usually configured with very conservative rules, and it’s not uncommon for these rules to block new applications from working on the network."
   ]
  },
  {
   "cell_type": "markdown",
   "id": "53c0e87c",
   "metadata": {},
   "source": [
    "One of the first things you can confirm then is that there is some type of communication problem - if you perform a packet capture, you can see the application request, and then you can see that no response is received. "
   ]
  },
  {
   "cell_type": "markdown",
   "id": "48a9e5b4",
   "metadata": {},
   "source": [
    "From there, you may want to run a ``traceroute`` tool that allows you to customize the ``TCP`` or ``UDP`` port number that’s used. "
   ]
  },
  {
   "cell_type": "markdown",
   "id": "e1602ff5",
   "metadata": {},
   "source": [
    "This would allow you to see just how far the traffic is able to go, and then you can provide that ``traceroute`` information to a network administrator who can then determine where the filtering is occurring."
   ]
  },
  {
   "cell_type": "markdown",
   "id": "f7a848af",
   "metadata": {},
   "source": [
    "< [Table of Contents](#top) | [References](#references) >\n",
    "<a id=\"___\"></a>\n",
    "***\n",
    "###### Incorrect Host-based Firewall Setting\n",
    "***"
   ]
  },
  {
   "cell_type": "markdown",
   "id": "880b2828",
   "metadata": {},
   "source": [
    "A similar problem might occur if the application is being filtered on your device with a host-based firewall. "
   ]
  },
  {
   "cell_type": "markdown",
   "id": "53c3d558",
   "metadata": {},
   "source": [
    "A firewall administrator may be able to configure not just a port number, but the application name itself to be able to filter that traffic. "
   ]
  },
  {
   "cell_type": "markdown",
   "id": "4a2cb611",
   "metadata": {},
   "source": [
    "In environments where the host-based firewall is administered centrally, you may not have access to view firewall information, so you may need to document exactly what application you need to use, and provide that information to the firewall administrator."
   ]
  },
  {
   "cell_type": "markdown",
   "id": "ddf9f44d",
   "metadata": {},
   "source": [
    "In these scenarios, you may want to perform a packet capture from an external device so you can see exactly the traffic that’s leaving that computer and the traffic that’s coming back."
   ]
  },
  {
   "cell_type": "markdown",
   "id": "99a84063",
   "metadata": {},
   "source": [
    "< [Table of Contents](#top) | [References](#references) >\n",
    "<a id=\"___\"></a>\n",
    "***\n",
    "###### Incorrect ACL Settting\n",
    "***"
   ]
  },
  {
   "cell_type": "markdown",
   "id": "5c035495",
   "metadata": {},
   "source": [
    "Access control lists can provide extensive security options. "
   ]
  },
  {
   "cell_type": "markdown",
   "id": "cd093eb4",
   "metadata": {},
   "source": [
    "May find that they’re blocking some traffic from getting through, but other traffic is able to flow properly. "
   ]
  },
  {
   "cell_type": "markdown",
   "id": "4caf5c75",
   "metadata": {},
   "source": [
    "If you were to look at the access control list, you can see there are a number of different filtering options - can filter by IP address, port number, and many other options as well and you can allow or deny traffic based on a combination of this criteria."
   ]
  },
  {
   "cell_type": "markdown",
   "id": "973366c6",
   "metadata": {},
   "source": [
    "If you’re trying to determine if an access control list may be blocking your traffic, you can perform a packet capture, be able to see exactly what traffic you’re trying to send and what traffic is being received. "
   ]
  },
  {
   "cell_type": "markdown",
   "id": "6cd30bf0",
   "metadata": {},
   "source": [
    "You might also want to use a ``traceroute`` utility that allows you to customize the TCP or UDP port number - this would allow you to send traffic into the network, and you’d be able to tell at exactly which hop the traffic is stopping."
   ]
  },
  {
   "cell_type": "markdown",
   "id": "ba1694f1",
   "metadata": {},
   "source": [
    "< [Table of Contents](#top) | [References](#references) >\n",
    "<a id=\"___\"></a>\n",
    "***\n",
    "###### Unresponsive Service\n",
    "***"
   ]
  },
  {
   "cell_type": "markdown",
   "id": "26140ef9",
   "metadata": {},
   "source": [
    "If you’re trying to communicate to a server and you’re not getting any response, you know the problem isn’t related to a filter or an ACL, and there may be a service that’s simply not responding to your request - may want to check and make sure that you’re accessing that service over the correct UDP or TCP port number and if it’s different, you need to make that change in your application."
   ]
  },
  {
   "cell_type": "markdown",
   "id": "9fc47a0a",
   "metadata": {},
   "source": [
    "You want to confirm that the device itself is up and running - may want to run a ``ping`` or a ``traceroute`` to the device, and make sure that you’re able to communicate to that server successfully."
   ]
  },
  {
   "cell_type": "markdown",
   "id": "5ef4b7f9",
   "metadata": {},
   "source": [
    "If you are, you might want to try a ``Telnet`` to that particular port number itself and see if you’re able to make the application talk back to you. "
   ]
  },
  {
   "cell_type": "markdown",
   "id": "4e00e3d0",
   "metadata": {},
   "source": [
    "If that application isn’t responding, you may need to restart the application or restart the server where that application exists."
   ]
  },
  {
   "cell_type": "markdown",
   "id": "96118f5e",
   "metadata": {},
   "source": [
    "< [Table of Contents](#top) | [References](#references) >\n",
    "<a id=\"___\"></a>\n",
    "***\n",
    "###### Hardware Failure\n",
    "***"
   ]
  },
  {
   "cell_type": "markdown",
   "id": "cbaa66b7",
   "metadata": {},
   "source": [
    "If the server that is hosting that application is having a problem, the issue may be very similar to the service itself not responding. "
   ]
  },
  {
   "cell_type": "markdown",
   "id": "6f752b1f",
   "metadata": {},
   "source": [
    "We try to use the application, and we get no response from that device. "
   ]
  },
  {
   "cell_type": "markdown",
   "id": "215eda44",
   "metadata": {},
   "source": [
    "We’re going to first confirm the connectivity, so if we do have a hardware failure, we’re probably not going to receive a response to this ``ping``."
   ]
  },
  {
   "cell_type": "markdown",
   "id": "18167858",
   "metadata": {},
   "source": [
    "We can also confirm that with a ``traceroute``, so we can see exactly what hops we’re going through to get to that server, but we can also see that the server is not responding to that ``traceroute``."
   ]
  },
  {
   "cell_type": "markdown",
   "id": "50bbb536",
   "metadata": {},
   "source": [
    "At that point, we want to check the server ourselves, or we’ll need to contact the help desk or server administrator to see if they can find out why that server is not responding."
   ]
  },
  {
   "cell_type": "markdown",
   "id": "bf2b95e2",
   "metadata": {},
   "source": [
    "***\n",
    "## END"
   ]
  },
  {
   "cell_type": "markdown",
   "id": "e0e42d51",
   "metadata": {},
   "source": [
    "< [Table of Contents](#top) >\n",
    "<a id=\"references\"></a>\n",
    "***\n",
    "## References\n",
    "***"
   ]
  },
  {
   "cell_type": "markdown",
   "id": "0b469c7d",
   "metadata": {},
   "source": [
    "&nbsp;&nbsp;&nbsp;&nbsp;&nbsp;&nbsp;&nbsp;&nbsp;&nbsp;J. \"Professor\" Messer, \"CompTIA Network+ (N10-007) Course Notes,\" [professormesser.com](https://web.archive.org/web/20220404153917/https://www.professormesser.com/network-plus/n10-007/n10-007-training-course/), March 2019."
   ]
  },
  {
   "cell_type": "markdown",
   "id": "b33c372a",
   "metadata": {},
   "source": [
    "***\n",
    "## END"
   ]
  },
  {
   "cell_type": "markdown",
   "id": "e5961b4d",
   "metadata": {},
   "source": [
    "< [Table of Contents](#top) | [References](#references) >\n",
    "<a id=\"appendix\"></a>\n",
    "***\n",
    "## Appendix\n",
    "***"
   ]
  },
  {
   "cell_type": "markdown",
   "id": "00d82a82",
   "metadata": {},
   "source": [
    "***\n",
    "## END"
   ]
  },
  {
   "cell_type": "code",
   "execution_count": 1,
   "id": "4f6be89f",
   "metadata": {},
   "outputs": [
    {
     "data": {
      "text/html": [
       "<style>.container { width:100% !important; }</style>"
      ],
      "text/plain": [
       "<IPython.core.display.HTML object>"
      ]
     },
     "metadata": {},
     "output_type": "display_data"
    }
   ],
   "source": [
    "from IPython.core.display import display,HTML\n",
    "display(HTML(\"<style>.container { width:100% !important; }</style>\"))"
   ]
  },
  {
   "cell_type": "markdown",
   "id": "a3bf062d",
   "metadata": {},
   "source": [
    "# END JUPYTER NOTEBOOK"
   ]
  }
 ],
 "metadata": {
  "kernelspec": {
   "display_name": "Python 3",
   "language": "python",
   "name": "python3"
  },
  "language_info": {
   "codemirror_mode": {
    "name": "ipython",
    "version": 3
   },
   "file_extension": ".py",
   "mimetype": "text/x-python",
   "name": "python",
   "nbconvert_exporter": "python",
   "pygments_lexer": "ipython3",
   "version": "3.8.8"
  }
 },
 "nbformat": 4,
 "nbformat_minor": 5
}
